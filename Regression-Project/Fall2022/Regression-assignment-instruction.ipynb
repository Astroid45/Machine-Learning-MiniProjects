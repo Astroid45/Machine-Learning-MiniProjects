{
 "cells": [
  {
   "cell_type": "markdown",
   "metadata": {},
   "source": [
    "# ITCS 4156 - Programming Assignment -  Regression\n"
   ]
  },
  {
   "cell_type": "markdown",
   "metadata": {},
   "source": [
    "<font color=\"blue\"> Xavier Rogers </font>"
   ]
  },
  {
   "cell_type": "markdown",
   "metadata": {},
   "source": [
    "# Instructions\n",
    "In this programming assignment you will be training and programming **4** algorithms to predict the house prices for Boston homes. The four models you'll be using are:\n",
    "\n",
    "1. Linear regression using <u>ordinary least squared</u> method.\n",
    "2. Linear regression using <u>least mean squares</u> method.\n",
    "3. Polynomial regression using <u>ordinary least squares</u>\n",
    "4. Polynomial regression with <u>regularization using ordinary least squares</u> method.\n",
    "\n",
    "This mini-project will work similarly to the labs where there are TODOs you must complete. Be on the lookout for **TODO** tags - they guide you towards what needs to be done. However, unlike the labs, most of the coding will now be left to you and there will be less direct instructions. The goal of this mini-project is for you to practice what your learned in the labs on your own! \n"
   ]
  },
  {
   "cell_type": "markdown",
   "metadata": {},
   "source": [
    "## Steps\n",
    "\n",
    "\n",
    "Below is a summary of the general steps you'll need to take to complete this mini-project."
   ]
  },
  {
   "cell_type": "markdown",
   "metadata": {},
   "source": [
    "### Step 1: Data loading, exploration, and preprocessing\n",
    "\n",
    "The first step is download the `Fall2022.zip` and unzip it. There are two main files:\n",
    "\n",
    "- Regression-assignment-instruction.ipynb which youa re reading Now!\n",
    "\n",
    "- Regression-Code.ipynb which is the file you need to coding on.l "
   ]
  },
  {
   "cell_type": "markdown",
   "metadata": {},
   "source": [
    "\n",
    "### Step 2: Writing algorithms and setting hyper-parameters (Your Coding)\n",
    "\n",
    "#### Writing the algorithms\n",
    "Next, you will implement each of the models. You will write your code in `Regression-Code.ipynb`, please check the Section of **Design Machine Learning Models (TODO)**. In specific: \n",
    "\n",
    "- TODO: Linear Regression with Ordinary Least Square (OLS) \n",
    "- TODO: Lienar Regression with least Mean Squares (LMS)\n",
    "- TODO: Polynomial Regression with Ordinary Least Square (OLS)\n",
    "- TODO: Polynomial Regression with OLS and Regularization\n",
    "\n",
    "Each subsection has a class that corresponds to it's algorithm. For instance, the `TODO: Polynomial Regression with OLS and Regularization` contains the `PolynomialRegressionRegularized` class. Within each class is are `fit()` and `predict()` methods where you will add the code for the given algorithm. **Feel free to add any additional methods, within the class, or functions, outside the class, here as well.**\n",
    "\n",
    "\n"
   ]
  },
  {
   "cell_type": "markdown",
   "metadata": {},
   "source": [
    "#### Setting hyper-parameters\n",
    "\n",
    "Additionally, you will need to add code to set the hyper-parameters for each algorithm in **TODO: Define Hyperparameters**. In class `HyperParameters`, you will set your hyper-parameters for EACH algorithm. \n",
    "\n",
    "Within each one of these sub-class you need to set the hyper-parameter variables which are marked by the `# TODO` comments. Hyper-parameters that are required will be marked with the following tag: `# (REQUIRED) TODO`. If the TODO comment is marked as `# (OPTIONAL) TODO`, setting the hyper-parameter is optional and can be left alone."
   ]
  },
  {
   "cell_type": "markdown",
   "metadata": {},
   "source": [
    "### Step 3: Local score estimation\n",
    "\n",
    "Before submitting to Autolab, you will need to run the evaluation code using the `run_eval()` function located at the bottom of the notebook. This is a local test that uses the validation data to estimate the MSE. At least make sure there is no error when running `run_eval()` function."
   ]
  },
  {
   "cell_type": "markdown",
   "metadata": {},
   "source": [
    "### Step 4: Submit to Canvas\n",
    "\n",
    "If you are satisfied with the local performance of your models, then you can now submit to Canvas. The submission is the same as submitting the labs. **The file you need to submit is `Regression_Code.ipynb`.** \n",
    "\n",
    "Once again, use the local testing function `run_eval()` to debug your code! \n",
    "\n",
    "Note:\n",
    "- **Your final score will be based on the evaluation MSE. The lower MSE, the better.**\n",
    "- **You have the highest freedom to to anything in your codes (e.g., add/remove/delete/modify functions or classes, tune hyper-parameters) as long as you can get the lowest MSE.**\n",
    "- **If you are struggling, submitting working code (no errors are thrown when running the `run_eval()` function at the end of the notebook) will at least give you these baseline points towards the mini-project.**"
   ]
  },
  {
   "cell_type": "markdown",
   "metadata": {},
   "source": [
    "Here are more details of the notes:\n",
    "\n",
    "- You are free to create your own class variables in  any class's `__init__()` method. If you want to pass class variables as hyper-parameters, instead of hard coding them, then also define them in the corresponding sub-class within the `HyperParameters` class.\n",
    "\n",
    "- You are free to define your own classes, methods, or functions within each class or file.\n",
    "\n",
    "- For analysis, you can use any library you want in the notebook. However, matplolib and seaborn will be unavailable in the evaluation environment so refrain from importing them with the python files.\n",
    "\n",
    "- **Even though scikit-learn contains LinearRegression, PolynomialRegression classes, you should be implementing your own algorithms instead of using the machine learning MODEL packaged in library**. This will be reviewed before the final grading. These include libraries such as NumPy and Pandas. However, keep in mind the above constraints on importing plotting libraries. \n",
    "\n",
    "- **Epochs (number of iterations of data)**: While training your models locally, you can keep this number as high as you want. But please keep in mind, that for evaluation your job will have a maximum of **3 minutes** to finish training and prediction for all the three algorithms. So tune this parameter, keeping this information in mind. "
   ]
  },
  {
   "cell_type": "markdown",
   "metadata": {},
   "source": [
    "## Grading \n",
    "\n",
    "This assignment counts for 20% in final grade. The above coding counts for 80% scores in this assignment. Your scores of the codings will be nonlinearly calculated based on your MSE on each algorithm. \n",
    "\n",
    "In case the coding is too difficult to you guys, I designed a section named as **Easy Points** at the bottom of Regression-Code notebook. The questions which will counts for 20% points of this assignment. Answer the questions based your understanding of the dataset. Each question worths 2 points."
   ]
  },
  {
   "cell_type": "markdown",
   "metadata": {},
   "source": [
    "### Sample output\n",
    "If there's not error in your coding, run `run_eval()`. You may get somethig as the output of the following cell. "
   ]
  },
  {
   "cell_type": "code",
   "execution_count": 1,
   "metadata": {
    "ExecuteTime": {
     "end_time": "2024-03-24T00:28:52.270824Z",
     "start_time": "2024-03-24T00:28:51.719895Z"
    },
    "scrolled": true
   },
   "outputs": [
    {
     "ename": "ModuleNotFoundError",
     "evalue": "No module named 'itcs4156'",
     "output_type": "error",
     "traceback": [
      "\u001b[1;31m---------------------------------------------------------------------------\u001b[0m",
      "\u001b[1;31mModuleNotFoundError\u001b[0m                       Traceback (most recent call last)",
      "Cell \u001b[1;32mIn[1], line 1\u001b[0m\n\u001b[1;32m----> 1\u001b[0m \u001b[38;5;28;01mfrom\u001b[39;00m \u001b[38;5;21;01mitcs4156\u001b[39;00m\u001b[38;5;21;01m.\u001b[39;00m\u001b[38;5;21;01massignments\u001b[39;00m\u001b[38;5;21;01m.\u001b[39;00m\u001b[38;5;21;01mregression\u001b[39;00m\u001b[38;5;21;01m.\u001b[39;00m\u001b[38;5;21;01mevaluate\u001b[39;00m \u001b[38;5;28;01mimport\u001b[39;00m run_eval\n\u001b[0;32m      2\u001b[0m run_eval()\n",
      "\u001b[1;31mModuleNotFoundError\u001b[0m: No module named 'itcs4156'"
     ]
    }
   ],
   "source": [
    "from itcs4156.assignments.regression.evaluate import run_eval\n",
    "run_eval();"
   ]
  },
  {
   "cell_type": "code",
   "execution_count": null,
   "metadata": {},
   "outputs": [],
   "source": []
  }
 ],
 "metadata": {
  "kernelspec": {
   "display_name": "Python 3 (ipykernel)",
   "language": "python",
   "name": "python3"
  },
  "language_info": {
   "codemirror_mode": {
    "name": "ipython",
    "version": 3
   },
   "file_extension": ".py",
   "mimetype": "text/x-python",
   "name": "python",
   "nbconvert_exporter": "python",
   "pygments_lexer": "ipython3",
   "version": "3.11.5"
  },
  "toc": {
   "base_numbering": 1,
   "nav_menu": {},
   "number_sections": true,
   "sideBar": true,
   "skip_h1_title": false,
   "title_cell": "Table of Contents",
   "title_sidebar": "Contents",
   "toc_cell": false,
   "toc_position": {
    "height": "calc(100% - 180px)",
    "left": "10px",
    "top": "150px",
    "width": "252px"
   },
   "toc_section_display": true,
   "toc_window_display": true
  },
  "toc-autonumbering": true,
  "toc-showcode": false,
  "toc-showmarkdowntxt": false,
  "toc-showtags": false
 },
 "nbformat": 4,
 "nbformat_minor": 4
}
